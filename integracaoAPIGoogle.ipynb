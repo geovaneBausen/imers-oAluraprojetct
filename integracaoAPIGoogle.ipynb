{
 "cells": [
  {
   "cell_type": "code",
   "execution_count": 1,
   "metadata": {},
   "outputs": [
    {
     "name": "stdout",
     "output_type": "stream",
     "text": [
      "Note: you may need to restart the kernel to use updated packages.\n"
     ]
    },
    {
     "name": "stderr",
     "output_type": "stream",
     "text": [
      "\n",
      "Usage:   \n",
      "  C:\\Users\\geova\\AppData\\Local\\Microsoft\\WindowsApps\\PythonSoftwareFoundation.Python.3.11_qbz5n2kfra8p0\\python.exe -m pip install [options] <requirement specifier> [package-index-options] ...\n",
      "  C:\\Users\\geova\\AppData\\Local\\Microsoft\\WindowsApps\\PythonSoftwareFoundation.Python.3.11_qbz5n2kfra8p0\\python.exe -m pip install [options] -r <requirements file> [package-index-options] ...\n",
      "  C:\\Users\\geova\\AppData\\Local\\Microsoft\\WindowsApps\\PythonSoftwareFoundation.Python.3.11_qbz5n2kfra8p0\\python.exe -m pip install [options] [-e] <vcs project url> ...\n",
      "  C:\\Users\\geova\\AppData\\Local\\Microsoft\\WindowsApps\\PythonSoftwareFoundation.Python.3.11_qbz5n2kfra8p0\\python.exe -m pip install [options] [-e] <local project path> ...\n",
      "  C:\\Users\\geova\\AppData\\Local\\Microsoft\\WindowsApps\\PythonSoftwareFoundation.Python.3.11_qbz5n2kfra8p0\\python.exe -m pip install [options] <archive url/path> ...\n",
      "\n",
      "no such option: -u\n"
     ]
    }
   ],
   "source": [
    "pip install -q -u google-generativeai"
   ]
  },
  {
   "cell_type": "markdown",
   "metadata": {},
   "source": [
    "instalando generativeai"
   ]
  },
  {
   "cell_type": "markdown",
   "metadata": {},
   "source": [
    "iniciando um cliente gen\n"
   ]
  },
  {
   "cell_type": "code",
   "execution_count": 2,
   "metadata": {},
   "outputs": [
    {
     "name": "stderr",
     "output_type": "stream",
     "text": [
      "C:\\Users\\geova\\AppData\\Local\\Packages\\PythonSoftwareFoundation.Python.3.11_qbz5n2kfra8p0\\LocalCache\\local-packages\\Python311\\site-packages\\tqdm\\auto.py:21: TqdmWarning: IProgress not found. Please update jupyter and ipywidgets. See https://ipywidgets.readthedocs.io/en/stable/user_install.html\n",
      "  from .autonotebook import tqdm as notebook_tqdm\n"
     ]
    }
   ],
   "source": [
    "import google.generativeai as genai\n",
    "GOOGLE_API_KEY=\"\"\n",
    "genai.configure(api_key=GOOGLE_API_KEY)"
   ]
  },
  {
   "cell_type": "code",
   "execution_count": 3,
   "metadata": {},
   "outputs": [
    {
     "name": "stdout",
     "output_type": "stream",
     "text": [
      "models/gemini-1.0-pro\n",
      "models/gemini-1.0-pro-001\n",
      "models/gemini-1.0-pro-latest\n",
      "models/gemini-1.0-pro-vision-latest\n",
      "models/gemini-1.5-pro-latest\n",
      "models/gemini-pro\n",
      "models/gemini-pro-vision\n"
     ]
    }
   ],
   "source": [
    "for m in genai.list_models():\n",
    "    if 'generateContent' in m.supported_generation_methods:\n",
    "        print(m.name)"
   ]
  },
  {
   "cell_type": "markdown",
   "metadata": {},
   "source": [
    "analisando modelos disponíveis"
   ]
  },
  {
   "cell_type": "code",
   "execution_count": 4,
   "metadata": {},
   "outputs": [],
   "source": [
    "model = genai.GenerativeModel('gemini-1.0-pro')"
   ]
  },
  {
   "cell_type": "markdown",
   "metadata": {},
   "source": [
    "selecionando o modelo"
   ]
  },
  {
   "cell_type": "code",
   "execution_count": 5,
   "metadata": {},
   "outputs": [
    {
     "data": {
      "text/plain": [
       "genai.GenerativeModel(\n",
       "    model_name='models/gemini-1.0-pro',\n",
       "    generation_config={},\n",
       "    safety_settings={},\n",
       "    tools=None,\n",
       "    system_instruction=None,\n",
       ")"
      ]
     },
     "execution_count": 5,
     "metadata": {},
     "output_type": "execute_result"
    }
   ],
   "source": [
    "model"
   ]
  },
  {
   "cell_type": "code",
   "execution_count": 6,
   "metadata": {},
   "outputs": [
    {
     "name": "stdout",
     "output_type": "stream",
     "text": [
      "Brasília\n"
     ]
    }
   ],
   "source": [
    "response = model.generate_content(\"qual é a capital do Brasil\")\n",
    "print(response.text)"
   ]
  },
  {
   "cell_type": "markdown",
   "metadata": {},
   "source": [
    "teste do modelo"
   ]
  },
  {
   "cell_type": "code",
   "execution_count": 7,
   "metadata": {},
   "outputs": [],
   "source": [
    "generation_config = {\n",
    "    \"candidate_count\": 1,\n",
    "    \"temperature\": 0.5\n",
    "}\n",
    "safety_settings = {\n",
    "    \"HARASSMENT\": \"BLOCK_NONE\",\n",
    "    \"HATE\": \"BLOCK_NONE\",\n",
    "    \"SEXUAL\": \"BLOCK_NONE\",\n",
    "    \"DANGEROUS\": \"BLOCK_NONE\"\n",
    "}"
   ]
  },
  {
   "cell_type": "markdown",
   "metadata": {},
   "source": [
    "adcionar ou remover filtros\n"
   ]
  },
  {
   "cell_type": "code",
   "execution_count": 8,
   "metadata": {},
   "outputs": [],
   "source": [
    "model = genai.GenerativeModel(model_name=\"gemini-1.0-pro\", generation_config=generation_config, safety_settings=safety_settings)"
   ]
  },
  {
   "cell_type": "markdown",
   "metadata": {},
   "source": [
    "teste com filtros"
   ]
  },
  {
   "cell_type": "code",
   "execution_count": 9,
   "metadata": {},
   "outputs": [
    {
     "name": "stdout",
     "output_type": "stream",
     "text": [
      "**Projetos Criativos e Úteis para Chatbots de IA**\n",
      "\n",
      "**1. Assistente de Escrita Criativa**\n",
      "\n",
      "* **Objetivo:** Gerar ideias de histórias, escrever poemas e diálogos envolventes.\n",
      "* **Como criar:** Treine o chatbot com um conjunto de dados de textos criativos. Use técnicas de processamento de linguagem natural (PNL) para analisar o estilo e os padrões de escrita.\n",
      "\n",
      "**2. Curador de Conteúdo Personalizado**\n",
      "\n",
      "* **Objetivo:** Fornecer aos usuários conteúdo personalizado com base em seus interesses e preferências.\n",
      "* **Como criar:** Use algoritmos de aprendizado de máquina para analisar o histórico de navegação, interações e dados demográficos do usuário. Recomendar conteúdo relevante de uma ampla gama de fontes.\n",
      "\n",
      "**3. Assistente de Planejamento de Viagem**\n",
      "\n",
      "* **Objetivo:** Ajudar os usuários a planejar viagens personalizadas, incluindo destinos, acomodações e atividades.\n",
      "* **Como criar:** Integre o chatbot com APIs de viagem e use PNL para entender as preferências e restrições do usuário. Forneça sugestões e reservas com base nas necessidades específicas.\n",
      "\n",
      "**4. Tutor de Idiomas**\n",
      "\n",
      "* **Objetivo:** Ensinar novos idiomas de forma interativa e envolvente.\n",
      "* **Como criar:** Use técnicas de PNL para analisar o nível de proficiência do usuário. Fornecer exercícios personalizados, feedback e correções em tempo real.\n",
      "\n",
      "**5. Chatbot de Atendimento ao Cliente**\n",
      "\n",
      "* **Objetivo:** Fornecer suporte ao cliente 24 horas por dia, 7 dias por semana, respondendo a perguntas comuns e resolvendo problemas.\n",
      "* **Como criar:** Treine o chatbot com um conjunto de dados de perguntas e respostas de atendimento ao cliente. Use técnicas de aprendizado profundo para melhorar a precisão e a eficiência das respostas.\n",
      "\n",
      "**6. Assistente de Saúde e Bem-Estar**\n",
      "\n",
      "* **Objetivo:** Fornecer informações e orientações sobre saúde, nutrição e condicionamento físico.\n",
      "* **Como criar:** Colabore com profissionais de saúde para criar um conjunto de dados abrangente. Use PNL para entender as perguntas e preocupações dos usuários e fornecer respostas confiáveis.\n",
      "\n",
      "**7. Chatbot de Jogos**\n",
      "\n",
      "* **Objetivo:** Criar experiências de jogo envolventes e personalizadas.\n",
      "* **Como criar:** Use técnicas de aprendizado por reforço para treinar o chatbot para jogar contra os usuários. Personalize a experiência do jogo com base no estilo de jogo e nas preferências do usuário.\n",
      "\n",
      "**8. Assistente de Pesquisa**\n",
      "\n",
      "* **Objetivo:** Fornecer informações rápidas e precisas sobre uma ampla gama de tópicos.\n",
      "* **Como criar:** Integre o chatbot com mecanismos de pesquisa e use PNL para analisar e resumir as informações relevantes. Forneça respostas concisas e fáceis de entender.\n",
      "\n",
      "**9. Chatbot de Entretenimento**\n",
      "\n",
      "* **Objetivo:** Fornecer entretenimento leve, como contar piadas, jogar jogos e gerar histórias.\n",
      "* **Como criar:** Treine o chatbot com um conjunto de dados de conteúdo divertido. Use técnicas de PNL para gerar respostas criativas e envolventes que façam os usuários rirem ou pensarem.\n",
      "\n",
      "**10. Assistente de Produtividade**\n",
      "\n",
      "* **Objetivo:** Aumentar a produtividade dos usuários, gerenciando tarefas, definindo lembretes e fornecendo informações relevantes.\n",
      "* **Como criar:** Integre o chatbot com aplicativos de produtividade e use PNL para entender as solicitações do usuário. Automatize tarefas e forneça informações personalizadas para ajudar os usuários a se manterem organizados e eficientes.\n"
     ]
    }
   ],
   "source": [
    "response = model.generate_content('projetos faceis para criar com um chat bot de ia, mais que é criativo e util, comportesse como um programador')\n",
    "print(response.text)"
   ]
  },
  {
   "cell_type": "code",
   "execution_count": 10,
   "metadata": {},
   "outputs": [],
   "source": [
    "chat = model.start_chat(history=[])"
   ]
  },
  {
   "cell_type": "code",
   "execution_count": 11,
   "metadata": {},
   "outputs": [
    {
     "name": "stdout",
     "output_type": "stream",
     "text": [
      "Resposta: Brasília \n",
      "\n",
      "Resposta: Reino Unido \n",
      "\n",
      "Resposta: Holanda \n",
      "\n"
     ]
    }
   ],
   "source": [
    "prompt = input(\"Esperando prompt: \")\n",
    "\n",
    "while prompt != \"fim\":\n",
    "    response = chat.send_message(prompt)\n",
    "    print(\"Resposta:\", response.text, \"\\n\")\n",
    "    prompt = input(\"Esperando prompt: \")"
   ]
  },
  {
   "cell_type": "code",
   "execution_count": null,
   "metadata": {},
   "outputs": [
    {
     "data": {
      "text/plain": [
       "[parts {\n",
       "   text: \"qual a capital do brasil?\"\n",
       " }\n",
       " role: \"user\",\n",
       " parts {\n",
       "   text: \"Brasília\"\n",
       " }\n",
       " role: \"model\",\n",
       " parts {\n",
       "   text: \"cor da bandeira\"\n",
       " }\n",
       " role: \"user\",\n",
       " parts {\n",
       "   text: \"Verde, amarelo, azul e branco\\n\\n**Descrição:**\\n\\n* **Verde:** Representa as florestas e a natureza do Brasil.\\n* **Amarelo:** Representa o ouro e as riquezas minerais do país.\\n* **Azul:** Representa o céu e o mar.\\n* **Branco:** Representa a paz e a harmonia.\\n\\n**Disposição:**\\n\\n* Um losango amarelo no centro, sobreposto por um círculo azul com 27 estrelas brancas.\\n* Duas faixas verdes nas laterais, separadas do losango amarelo por duas faixas brancas.\"\n",
       " }\n",
       " role: \"model\",\n",
       " parts {\n",
       "   text: \"Musicas populares?\"\n",
       " }\n",
       " role: \"user\",\n",
       " parts {\n",
       "   text: \"**Algumas músicas populares brasileiras:**\\n\\n* **Samba:**\\n    * \\\"Mas que Nada\\\" - Jorge Ben Jor\\n    * \\\"Chega de Saudade\\\" - João Gilberto\\n    * \\\"Garota de Ipanema\\\" - Tom Jobim e Vinicius de Moraes\\n\\n* **Bossa Nova:**\\n    * \\\"The Girl from Ipanema\\\" - Antônio Carlos Jobim\\n    * \\\"Desafinado\\\" - Stan Getz e João Gilberto\\n    * \\\"Águas de Março\\\" - Tom Jobim\\n\\n* **MPB (Música Popular Brasileira):**\\n    * \\\"Evidências\\\" - Chitãozinho & Xororó\\n    * \\\"Como É Grande o Meu Amor por Você\\\" - Roberto Carlos\\n    * \\\"Asa Branca\\\" - Luiz Gonzaga\\n\\n* **Axé:**\\n    * \\\"We Are Carnaval\\\" - Ivete Sangalo\\n    * \\\"Lepo Lepo\\\" - Psirico\\n    * \\\"É o Tchan\\\" - É o Tchan\\n\\n* **Sertanejo:**\\n    * \\\"Evidências\\\" - Chitãozinho & Xororó\\n    * \\\"Evidências\\\" - Gusttavo Lima\\n    * \\\"Morena\\\" - Luan Santana\\n\\n* **Funk:**\\n    * \\\"Bum Bum Tam Tam\\\" - MC Fioti\\n    * \\\"Vai Malandra\\\" - Anitta, MC Zaac e Maejor\\n    * \\\"Paradinha\\\" - Anitta\\n\\n* **Pop:**\\n    * \\\"Envolver\\\" - Anitta\\n    * \\\"Malvadão 3\\\" - Xamã\\n    * \\\"Modo Turbo\\\" - Luísa Sonza, Anitta e Pabllo Vittar\\n\\n* **Rock:**\\n    * \\\"Tempo Perdido\\\" - Legião Urbana\\n    * \\\"Eduardo e Mônica\\\" - Legião Urbana\\n    * \\\"Pais e Filhos\\\" - Legião Urbana\"\n",
       " }\n",
       " role: \"model\"]"
      ]
     },
     "execution_count": 15,
     "metadata": {},
     "output_type": "execute_result"
    }
   ],
   "source": [
    "chat.history\n"
   ]
  },
  {
   "cell_type": "code",
   "execution_count": 4,
   "metadata": {},
   "outputs": [
    {
     "ename": "NameError",
     "evalue": "name 'obter_historico_de_mensagens' is not defined",
     "output_type": "error",
     "traceback": [
      "\u001b[1;31m---------------------------------------------------------------------------\u001b[0m",
      "\u001b[1;31mNameError\u001b[0m                                 Traceback (most recent call last)",
      "Cell \u001b[1;32mIn[4], line 10\u001b[0m\n\u001b[0;32m      8\u001b[0m chat_history \u001b[38;5;241m=\u001b[39m []  \u001b[38;5;66;03m# Inicializa como uma lista vazia\u001b[39;00m\n\u001b[0;32m      9\u001b[0m \u001b[38;5;66;03m# ou\u001b[39;00m\n\u001b[1;32m---> 10\u001b[0m chat_history \u001b[38;5;241m=\u001b[39m \u001b[43mobter_historico_de_mensagens\u001b[49m(chat_history)  \u001b[38;5;66;03m# Obtém o histórico de alguma fonte\u001b[39;00m\n\u001b[0;32m     12\u001b[0m \u001b[38;5;28;01mdef\u001b[39;00m \u001b[38;5;21mto_markdown\u001b[39m(text):\n\u001b[0;32m     13\u001b[0m     text \u001b[38;5;241m=\u001b[39m text\u001b[38;5;241m.\u001b[39mreplace(\u001b[38;5;124m'\u001b[39m\u001b[38;5;124m```\u001b[39m\u001b[38;5;124m'\u001b[39m, \u001b[38;5;124m'\u001b[39m\u001b[38;5;124m'\u001b[39m)\n",
      "\u001b[1;31mNameError\u001b[0m: name 'obter_historico_de_mensagens' is not defined"
     ]
    }
   ],
   "source": [
    "# Melhorando a visualização\n",
    "# Código disponível em https://ai.google/dev/tutorials/python/quickstart#import_packages\n",
    "\n",
    "import textwrap\n",
    "from IPython.display import display\n",
    "from IPython.display import Markdown\n",
    "\n",
    "chat_history = []  # Inicializa como uma lista vazia\n",
    "# ou\n",
    "chat_history = obter_historico_de_mensagens(chat_history)  # Obtém o histórico de alguma fonte\n",
    "\n",
    "def to_markdown(text):\n",
    "    text = text.replace('```', '')\n",
    "    return Markdown(textwrap.indent(text, '> ', predicate=lambda _: True))\n",
    "\n",
    "# Imprimindo o histórico\n",
    "for message in chat_history:"
   ]
  }
 ],
 "metadata": {
  "kernelspec": {
   "display_name": "Python 3",
   "language": "python",
   "name": "python3"
  },
  "language_info": {
   "codemirror_mode": {
    "name": "ipython",
    "version": 3
   },
   "file_extension": ".py",
   "mimetype": "text/x-python",
   "name": "python",
   "nbconvert_exporter": "python",
   "pygments_lexer": "ipython3",
   "version": "3.11.9"
  }
 },
 "nbformat": 4,
 "nbformat_minor": 2
}
